{
 "cells": [
  {
   "cell_type": "code",
   "execution_count": 1,
   "id": "3defe803-ce84-4f15-baaa-6eefa4458d85",
   "metadata": {
    "tags": []
   },
   "outputs": [],
   "source": [
    "import os\n",
    "from pathlib import Path\n",
    "import shutil"
   ]
  },
  {
   "cell_type": "code",
   "execution_count": 2,
   "id": "f1825fd2-da4a-45dd-87d4-f0ea36610215",
   "metadata": {
    "tags": []
   },
   "outputs": [],
   "source": [
    "path_eggs = 'folders_aux/'\n",
    "audio = 'Audios'\n",
    "text0 = 'Textos'\n",
    "Path(os.path.join(path_eggs, 'audio_clean', audio)).mkdir(parents=True, exist_ok=True)\n",
    "Path(os.path.join(path_eggs, 'audio_clean', text0)).mkdir(parents=True, exist_ok=True)"
   ]
  },
  {
   "cell_type": "code",
   "execution_count": 3,
   "id": "578cf940-c08c-44ba-bd20-0266f3090709",
   "metadata": {
    "tags": []
   },
   "outputs": [],
   "source": [
    "# Directorio raíz del conjunto de datos train-clean-100\n",
    "dataset_dir = \"data/Speakers/train-clean-100\"\n",
    "transcript = []\n",
    "# Iterar sobre los archivos y directorios dentro del directorio raíz\n",
    "for root, dirs, files in os.walk(dataset_dir):\n",
    "    for file_name in files:\n",
    "        # Verificar si el archivo es un archivo de texto .txt\n",
    "        if file_name.endswith(\".txt\"):\n",
    "            # Ruta completa del archivo de texto\n",
    "            file_path = os.path.join(root, file_name)\n",
    "            transcript.append(file_path)"
   ]
  },
  {
   "cell_type": "code",
   "execution_count": 8,
   "id": "8b2d5235-d010-442c-bae0-76569fc0505d",
   "metadata": {
    "tags": []
   },
   "outputs": [],
   "source": [
    "#Este folder lo toma del original puede ser cualquiera\n",
    "path_noise_aux = 'audio_with_noise/-9/nonstationary_babycry/'"
   ]
  },
  {
   "cell_type": "code",
   "execution_count": 9,
   "id": "52419f79-f052-4031-adb6-04687143ce90",
   "metadata": {
    "scrolled": true,
    "tags": []
   },
   "outputs": [
    {
     "name": "stdout",
     "output_type": "stream",
     "text": [
      "1898-145702-0002\n",
      "lo encontre\n",
      "1926-147979-0030\n",
      "lo encontre\n",
      "1926-147979-0013\n",
      "lo encontre\n",
      "1867-148436-0035\n",
      "lo encontre\n",
      "1723-141149-0078\n",
      "lo encontre\n",
      "1841-150351-0015\n",
      "lo encontre\n",
      "19-227-0040\n",
      "lo encontre\n",
      "1898-145702-0001\n",
      "lo encontre\n",
      "1963-142393-0002\n",
      "lo encontre\n",
      "1841-179183-0011\n",
      "lo encontre\n",
      "19-198-0037\n",
      "lo encontre\n",
      "1867-154071-0031\n",
      "lo encontre\n",
      "19-227-0030\n",
      "lo encontre\n",
      "1898-145724-0005\n",
      "lo encontre\n",
      "1723-141149-0052\n",
      "lo encontre\n",
      "19-227-0001\n",
      "lo encontre\n",
      "1898-145715-0003\n",
      "lo encontre\n",
      "1926-143879-0032\n",
      "lo encontre\n",
      "1926-143879-0016\n",
      "lo encontre\n",
      "1841-150351-0032\n",
      "lo encontre\n",
      "1743-142912-0020\n",
      "lo encontre\n",
      "1898-145702-0004\n",
      "lo encontre\n",
      "1898-145724-0002\n",
      "lo encontre\n",
      "1723-141149-0073\n",
      "lo encontre\n",
      "1898-145715-0021\n",
      "lo encontre\n",
      "1723-141149-0016\n",
      "lo encontre\n",
      "1963-147036-0005\n",
      "lo encontre\n",
      "1867-148436-0017\n",
      "lo encontre\n",
      "1723-141149-0056\n",
      "lo encontre\n",
      "1867-148436-0039\n",
      "lo encontre\n",
      "1898-145702-0017\n",
      "lo encontre\n",
      "1898-145720-0006\n",
      "lo encontre\n",
      "1723-141149-0061\n",
      "lo encontre\n",
      "1723-141149-0098\n",
      "lo encontre\n",
      "1723-141149-0011\n",
      "lo encontre\n",
      "1898-145715-0002\n",
      "lo encontre\n",
      "19-227-0026\n",
      "lo encontre\n",
      "1867-148436-0012\n",
      "lo encontre\n",
      "1723-141149-0015\n",
      "lo encontre\n",
      "1926-147979-0009\n",
      "lo encontre\n",
      "196-122150-0019\n",
      "lo encontre\n",
      "1737-148989-0011\n",
      "lo encontre\n",
      "1926-143879-0037\n",
      "lo encontre\n",
      "1926-143879-0007\n",
      "lo encontre\n",
      "1867-154071-0005\n",
      "lo encontre\n",
      "1898-145715-0037\n",
      "lo encontre\n",
      "196-122150-0034\n",
      "lo encontre\n",
      "1743-142913-0006\n",
      "lo encontre\n",
      "19-227-0023\n",
      "lo encontre\n",
      "1867-154071-0006\n",
      "lo encontre\n",
      "1963-142393-0001\n",
      "lo encontre\n",
      "196-122152-0033\n",
      "lo encontre\n",
      "1867-154071-0013\n",
      "lo encontre\n",
      "196-122150-0013\n",
      "lo encontre\n",
      "1898-145720-0003\n",
      "lo encontre\n",
      "1898-145724-0003\n",
      "lo encontre\n",
      "196-122152-0021\n",
      "lo encontre\n",
      "1926-143879-0035\n",
      "lo encontre\n",
      "1737-146161-0006\n",
      "lo encontre\n",
      "1723-141149-0092\n",
      "lo encontre\n",
      "1841-159771-0015\n",
      "lo encontre\n",
      "1737-142397-0009\n",
      "lo encontre\n",
      "1841-150351-0022\n",
      "lo encontre\n",
      "1963-142393-0013\n",
      "lo encontre\n",
      "19-227-0018\n",
      "lo encontre\n",
      "1963-142776-0013\n",
      "lo encontre\n",
      "1723-141149-0074\n",
      "lo encontre\n",
      "1841-179183-0022\n",
      "lo encontre\n",
      "1898-145715-0022\n",
      "lo encontre\n",
      "1737-142397-0010\n",
      "lo encontre\n",
      "1898-145720-0009\n",
      "lo encontre\n",
      "1737-142397-0032\n",
      "lo encontre\n",
      "196-122152-0015\n",
      "lo encontre\n",
      "19-227-0038\n",
      "lo encontre\n",
      "196-122152-0018\n",
      "lo encontre\n",
      "1841-159771-0012\n",
      "lo encontre\n",
      "1723-141149-0082\n",
      "lo encontre\n",
      "1867-148436-0008\n",
      "lo encontre\n",
      "19-227-0010\n",
      "lo encontre\n",
      "1743-142913-0024\n",
      "lo encontre\n",
      "19-198-0003\n",
      "lo encontre\n",
      "1723-141149-0031\n",
      "lo encontre\n",
      "1743-142913-0023\n",
      "lo encontre\n",
      "196-122152-0006\n",
      "lo encontre\n",
      "1841-150351-0005\n",
      "lo encontre\n",
      "1926-143879-0034\n",
      "lo encontre\n",
      "1737-142396-0010\n",
      "lo encontre\n",
      "1926-147979-0041\n",
      "lo encontre\n",
      "1963-142393-0028\n",
      "lo encontre\n",
      "1898-145702-0012\n",
      "lo encontre\n",
      "1841-150351-0003\n",
      "lo encontre\n",
      "1723-141149-0068\n",
      "lo encontre\n",
      "19-227-0043\n",
      "lo encontre\n",
      "1723-141149-0049\n",
      "lo encontre\n",
      "196-122152-0005\n",
      "lo encontre\n",
      "1743-142912-0033\n",
      "lo encontre\n",
      "1743-142912-0029\n",
      "lo encontre\n",
      "1898-145715-0036\n",
      "lo encontre\n",
      "1841-150351-0009\n",
      "lo encontre\n",
      "1926-143879-0036\n",
      "lo encontre\n"
     ]
    }
   ],
   "source": [
    "txt = []\n",
    "audio_clean = []\n",
    "for file in os.listdir(path_noise_aux):\n",
    "    print(file.split('.')[0])\n",
    "    for text in transcript:\n",
    "        if(file.split('.')[0] == text.split('/')[4].split('.')[0]):\n",
    "            print('lo encontre')\n",
    "            txt.append(text)\n",
    "            audio_clean.append(\"\".join(text.split('.')[0])+str('.flac'))"
   ]
  },
  {
   "cell_type": "code",
   "execution_count": 30,
   "id": "9e3fcb40-8fff-410b-9387-47b0581e4bf8",
   "metadata": {
    "scrolled": true,
    "tags": []
   },
   "outputs": [
    {
     "name": "stdout",
     "output_type": "stream",
     "text": [
      "data/Speakers/train-clean-100/1898/1898-145702-0002.txt\n",
      "data/Speakers/train-clean-100/1898/1898-145702-0002.flac\n"
     ]
    },
    {
     "ename": "PermissionError",
     "evalue": "[Errno 13] Permission denied: 'folders_aux/audio_clean/Audios/1898-145702-0002.flac'",
     "output_type": "error",
     "traceback": [
      "\u001b[0;31m---------------------------------------------------------------------------\u001b[0m",
      "\u001b[0;31mPermissionError\u001b[0m                           Traceback (most recent call last)",
      "Cell \u001b[0;32mIn[30], line 5\u001b[0m\n\u001b[1;32m      3\u001b[0m \u001b[38;5;28mprint\u001b[39m(t)\n\u001b[1;32m      4\u001b[0m \u001b[38;5;28mprint\u001b[39m(a0)\n\u001b[0;32m----> 5\u001b[0m \u001b[43mshutil\u001b[49m\u001b[38;5;241;43m.\u001b[39;49m\u001b[43mcopy\u001b[49m\u001b[43m(\u001b[49m\u001b[43ma0\u001b[49m\u001b[43m,\u001b[49m\u001b[43m \u001b[49m\u001b[43mos\u001b[49m\u001b[38;5;241;43m.\u001b[39;49m\u001b[43mpath\u001b[49m\u001b[38;5;241;43m.\u001b[39;49m\u001b[43mjoin\u001b[49m\u001b[43m(\u001b[49m\u001b[43mpath_eggs\u001b[49m\u001b[43m,\u001b[49m\u001b[43m \u001b[49m\u001b[38;5;124;43m'\u001b[39;49m\u001b[38;5;124;43maudio_clean\u001b[39;49m\u001b[38;5;124;43m'\u001b[39;49m\u001b[43m,\u001b[49m\u001b[43m \u001b[49m\u001b[43maudio\u001b[49m\u001b[43m)\u001b[49m\u001b[43m)\u001b[49m\n\u001b[1;32m      6\u001b[0m shutil\u001b[38;5;241m.\u001b[39mcopy(t, os\u001b[38;5;241m.\u001b[39mpath\u001b[38;5;241m.\u001b[39mjoin(path_eggs, \u001b[38;5;124m'\u001b[39m\u001b[38;5;124maudio_clean\u001b[39m\u001b[38;5;124m'\u001b[39m, text0))\n",
      "File \u001b[0;32m/usr/lib/python3.10/shutil.py:417\u001b[0m, in \u001b[0;36mcopy\u001b[0;34m(src, dst, follow_symlinks)\u001b[0m\n\u001b[1;32m    415\u001b[0m \u001b[38;5;28;01mif\u001b[39;00m os\u001b[38;5;241m.\u001b[39mpath\u001b[38;5;241m.\u001b[39misdir(dst):\n\u001b[1;32m    416\u001b[0m     dst \u001b[38;5;241m=\u001b[39m os\u001b[38;5;241m.\u001b[39mpath\u001b[38;5;241m.\u001b[39mjoin(dst, os\u001b[38;5;241m.\u001b[39mpath\u001b[38;5;241m.\u001b[39mbasename(src))\n\u001b[0;32m--> 417\u001b[0m \u001b[43mcopyfile\u001b[49m\u001b[43m(\u001b[49m\u001b[43msrc\u001b[49m\u001b[43m,\u001b[49m\u001b[43m \u001b[49m\u001b[43mdst\u001b[49m\u001b[43m,\u001b[49m\u001b[43m \u001b[49m\u001b[43mfollow_symlinks\u001b[49m\u001b[38;5;241;43m=\u001b[39;49m\u001b[43mfollow_symlinks\u001b[49m\u001b[43m)\u001b[49m\n\u001b[1;32m    418\u001b[0m copymode(src, dst, follow_symlinks\u001b[38;5;241m=\u001b[39mfollow_symlinks)\n\u001b[1;32m    419\u001b[0m \u001b[38;5;28;01mreturn\u001b[39;00m dst\n",
      "File \u001b[0;32m/usr/lib/python3.10/shutil.py:256\u001b[0m, in \u001b[0;36mcopyfile\u001b[0;34m(src, dst, follow_symlinks)\u001b[0m\n\u001b[1;32m    254\u001b[0m \u001b[38;5;28;01mwith\u001b[39;00m \u001b[38;5;28mopen\u001b[39m(src, \u001b[38;5;124m'\u001b[39m\u001b[38;5;124mrb\u001b[39m\u001b[38;5;124m'\u001b[39m) \u001b[38;5;28;01mas\u001b[39;00m fsrc:\n\u001b[1;32m    255\u001b[0m     \u001b[38;5;28;01mtry\u001b[39;00m:\n\u001b[0;32m--> 256\u001b[0m         \u001b[38;5;28;01mwith\u001b[39;00m \u001b[38;5;28;43mopen\u001b[39;49m\u001b[43m(\u001b[49m\u001b[43mdst\u001b[49m\u001b[43m,\u001b[49m\u001b[43m \u001b[49m\u001b[38;5;124;43m'\u001b[39;49m\u001b[38;5;124;43mwb\u001b[39;49m\u001b[38;5;124;43m'\u001b[39;49m\u001b[43m)\u001b[49m \u001b[38;5;28;01mas\u001b[39;00m fdst:\n\u001b[1;32m    257\u001b[0m             \u001b[38;5;66;03m# macOS\u001b[39;00m\n\u001b[1;32m    258\u001b[0m             \u001b[38;5;28;01mif\u001b[39;00m _HAS_FCOPYFILE:\n\u001b[1;32m    259\u001b[0m                 \u001b[38;5;28;01mtry\u001b[39;00m:\n",
      "\u001b[0;31mPermissionError\u001b[0m: [Errno 13] Permission denied: 'folders_aux/audio_clean/Audios/1898-145702-0002.flac'"
     ]
    }
   ],
   "source": [
    "#SOlamente se ejecuta una vez\n",
    "for idx, (t, a0) in enumerate(zip(txt, audio_clean)):\n",
    "    print(t)\n",
    "    print(a0)\n",
    "    shutil.copy(a0, os.path.join(path_eggs, 'audio_clean', audio))\n",
    "    shutil.copy(t, os.path.join(path_eggs, 'audio_clean', text0))"
   ]
  },
  {
   "cell_type": "code",
   "execution_count": 12,
   "id": "10afdb58-97a6-4dc2-9125-95deb11cb8a8",
   "metadata": {
    "tags": []
   },
   "outputs": [],
   "source": []
  },
  {
   "cell_type": "code",
   "execution_count": null,
   "id": "4c3536c8-033c-4f73-8e1c-b931ed1268e1",
   "metadata": {},
   "outputs": [],
   "source": []
  },
  {
   "cell_type": "code",
   "execution_count": null,
   "id": "b671cd7b-5c92-4551-b1b9-79759906448e",
   "metadata": {},
   "outputs": [],
   "source": [
    "path_noise = 'audio_with_noise/'\n",
    "path_denoised_dnn = 'audios_denoised_dnn/'\n",
    "path_denoised_dnn_wt = 'audios_denoised_wt/'"
   ]
  },
  {
   "cell_type": "code",
   "execution_count": 26,
   "id": "57071c94-f3f1-48ae-8b70-1d388be6fbfa",
   "metadata": {
    "scrolled": true,
    "tags": []
   },
   "outputs": [],
   "source": [
    "folders_complement_noise_db = os.listdir(path_noise)\n",
    "folders_complement_denoised_dnn_db = os.listdir(path_denoised_dnn)\n",
    "folders_complement_denoised_dnn_wt_db = os.listdir(path_denoised_dnn_wt)"
   ]
  },
  {
   "cell_type": "code",
   "execution_count": 27,
   "id": "21a0ce71-a959-4ee9-82cf-a9c657e1402a",
   "metadata": {
    "tags": []
   },
   "outputs": [
    {
     "data": {
      "text/plain": [
       "['9', '3', '-6', '0', '-9', '-3', '6']"
      ]
     },
     "execution_count": 27,
     "metadata": {},
     "output_type": "execute_result"
    }
   ],
   "source": [
    "folders_complement_noise_db"
   ]
  },
  {
   "cell_type": "code",
   "execution_count": 28,
   "id": "6ae72bc1-4642-42d2-bc50-1279a594a495",
   "metadata": {
    "tags": []
   },
   "outputs": [],
   "source": [
    "def generete_folder(path_eggs, path_main, list_folders, audio, text0):\n",
    "    print(path_eggs)\n",
    "    print(path_main)\n",
    "    print(list_folders)\n",
    "    print(audio)\n",
    "    print(text0)\n",
    "    #for folder_db in list_folders:\n",
    "        #for folder_noise in os.listdir(os.path.join(path_eggs, path_main, folder_db)):\n",
    "            #print(os.path.join(path_eggs, path_main, folder_db, folder_noise, audio))\n",
    "            #print(os.path.join(path_eggs, path_main, folder_db, folder_noise, text0))\n",
    "            #Path(os.path.join(path_eggs, path_main, folder, audio)).mkdir(parents=True, exist_ok=True)\n",
    "            #Path(os.path.join(path_eggs, path_main, folder, text0)).mkdir(parents=True, exist_ok=True)"
   ]
  },
  {
   "cell_type": "code",
   "execution_count": 29,
   "id": "91632848-158e-4673-a3b8-3914043cd857",
   "metadata": {
    "scrolled": true,
    "tags": []
   },
   "outputs": [
    {
     "name": "stdout",
     "output_type": "stream",
     "text": [
      "folders_aux/\n",
      "audio_with_noise/\n",
      "['9', '3', '-6', '0', '-9', '-3', '6']\n",
      "Audios\n",
      "Textos\n"
     ]
    }
   ],
   "source": [
    "generete_folder(path_eggs, path_noise, folders_complement_noise_db, audio, text0)\n",
    "#generete_folder(path_eggs, path_denoised_dnn, folders_complement_denoised_dnn, audio, text0)\n",
    "#generete_folder(path_eggs, path_denoised_dnn_wt, folders_complement_denoised_dnn_wt, audio, text0)"
   ]
  },
  {
   "cell_type": "code",
   "execution_count": null,
   "id": "1b13c7e8-832f-4fe5-95d4-3d15cb689c6a",
   "metadata": {
    "tags": []
   },
   "outputs": [],
   "source": [
    "def generate_data_for_asr(path_eggs, path_main, list_folders, audio, text0, txt):\n",
    "    for folder in list_folders:\n",
    "        for au in os.listdir(os.path.join(path_main, folder)):\n",
    "            print(os.path.join(path_main, folder, au))\n",
    "            print(os.path.join(path_eggs, path_main, folder, audio))\n",
    "            shutil.copy(os.path.join(path_main, folder, au), os.path.join(path_eggs, path_main, folder, audio))\n",
    "    for folder in list_folders:        \n",
    "        for tx in txt:\n",
    "            print(tx)\n",
    "            print(os.path.join(path_eggs, path_main, folder, text0))\n",
    "            shutil.copy(tx, os.path.join(path_eggs, path_main, folder, text0))"
   ]
  },
  {
   "cell_type": "code",
   "execution_count": null,
   "id": "d8ce1a85-0ba4-4ca3-9bde-acfaaae333af",
   "metadata": {
    "scrolled": true,
    "tags": []
   },
   "outputs": [],
   "source": [
    "generate_data_for_asr(path_eggs, path_noise, folders_complement_noise, audio, text0, txt)\n",
    "generate_data_for_asr(path_eggs, path_denoised_dnn, folders_complement_denoised_dnn, audio, text0, txt)\n",
    "generate_data_for_asr(path_eggs, path_denoised_dnn_wt, folders_complement_denoised_dnn_wt, audio, text0, txt)"
   ]
  },
  {
   "cell_type": "code",
   "execution_count": null,
   "id": "4706e46d-a1ce-4f36-848d-1d25cb859be3",
   "metadata": {
    "scrolled": true,
    "tags": []
   },
   "outputs": [],
   "source": [
    "#Path(os.path.join(path_eggs, path_noise, audio)).mkdir(parents=True, exist_ok=True)\n",
    "#Path(os.path.join(path_eggs, path_denoised_dnn, audio)).mkdir(parents=True, exist_ok=True)\n",
    "#Path(os.path.join(path_eggs, path_denoised_dnn_wt, audio)).mkdir(parents=True, exist_ok=True)\n",
    "#Path(os.path.join(path_eggs, path_noise, text)).mkdir(parents=True, exist_ok=True)\n",
    "#Path(os.path.join(path_eggs, path_denoised_dnn, text)).mkdir(parents=True, exist_ok=True)\n",
    "#Path(os.path.join(path_eggs, path_denoised_dnn_wt, text)).mkdir(parents=True, exist_ok=True)\n",
    "    \n",
    "    \n",
    "for idx, (t, a0, a1, a2, a3) in enumerate(zip(txt, audio_clean, os.listdir(path_noise), os.listdir(path_denoised_dnn), os.listdir(path_denoised_dnn_wt))):\n",
    "    # Ruta de origen del directorio\n",
    "    #ruta_origen = \"/ruta/al/directorio/origen\"\n",
    "\n",
    "    # Ruta de destino para la copia del directorio\n",
    "    #ruta_destino = \"/ruta/de/destino/copia\"\n",
    "\n",
    "    # Copiar el directorio completo desde la ruta de origen a la ruta de destino\n",
    "    #shutil.copytree(ruta_origen, ruta_destino)\n",
    "\n",
    "\n",
    "    #print()\n",
    "    #print(os.path.join(path_eggs, path_denoised_dnn))\n",
    "    #print(os.path.join(path_eggs, path_denoised_dnn_wt))\n",
    "    print(t)\n",
    "    print(a0)\n",
    "    print()\n",
    "    print(os.path.join(path_noise, a1))\n",
    "    print(os.path.join(path_denoised_dnn, a2))\n",
    "    print(os.path.join(path_denoised_dnn_wt, a3))\n",
    "    print()\n",
    "    print(os.path.join(path_eggs, path_noise, audio))\n",
    "    print(os.path.join(path_eggs, path_denoised_dnn, audio))\n",
    "    print(os.path.join(path_eggs, path_denoised_dnn_wt, audio))\n",
    "    \n",
    "    shutil.copy(os.path.join(path_noise, a1), os.path.join(path_eggs, path_noise, audio))\n",
    "    shutil.copy(os.path.join(path_denoised_dnn, a2), os.path.join(path_eggs, path_denoised_dnn, audio))\n",
    "    shutil.copy(os.path.join(path_denoised_dnn_wt, a3), os.path.join(path_eggs, path_denoised_dnn_wt, audio))\n",
    "    \n",
    "    shutil.copy(t, os.path.join(path_eggs, path_noise, text0))\n",
    "    shutil.copy(t, os.path.join(path_eggs, path_denoised_dnn, text0))\n",
    "    shutil.copy(t, os.path.join(path_eggs, path_denoised_dnn_wt, text0))\n",
    "    \n",
    "    #shutil.copytree(t, os.path.join(path_eggs, path_noise, text0))\n",
    "    #shutil.copytree(t, os.path.join(path_eggs, path_denoised_dnn, text0))\n",
    "    #shutil.copytree(t, os.path.join(path_eggs, path_denoised_dnn_wt, text0))\n",
    "    \n",
    "    #print(os.path.join(path_eggs, path_noise, text, t))\n",
    "    #print(os.path.join(path_eggs, path_denoised_dnn, text, t))\n",
    "    #print(os.path.join(path_eggs, path_denoised_dnn_wt, text, t))\n",
    "    "
   ]
  },
  {
   "cell_type": "code",
   "execution_count": null,
   "id": "2138c630-4167-4326-9b82-de06356c44dd",
   "metadata": {},
   "outputs": [],
   "source": []
  }
 ],
 "metadata": {
  "kernelspec": {
   "display_name": "Python 3 (ipykernel)",
   "language": "python",
   "name": "python3"
  },
  "language_info": {
   "codemirror_mode": {
    "name": "ipython",
    "version": 3
   },
   "file_extension": ".py",
   "mimetype": "text/x-python",
   "name": "python",
   "nbconvert_exporter": "python",
   "pygments_lexer": "ipython3",
   "version": "3.10.6"
  }
 },
 "nbformat": 4,
 "nbformat_minor": 5
}
