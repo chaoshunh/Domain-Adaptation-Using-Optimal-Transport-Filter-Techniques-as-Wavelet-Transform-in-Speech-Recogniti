{
 "cells": [
  {
   "cell_type": "code",
   "execution_count": 1,
   "id": "b9b13015-0e1d-42b6-8643-074b4b196894",
   "metadata": {
    "tags": []
   },
   "outputs": [],
   "source": [
    "import pandas as pd\n",
    "import os\n",
    "import shutil\n",
    "from pathlib import Path\n",
    "import torch\n",
    "import torchaudio\n",
    "import numpy as np\n",
    "from scipy.io import wavfile\n",
    "import pickle"
   ]
  },
  {
   "cell_type": "code",
   "execution_count": 2,
   "id": "9b74c549-4795-403d-849b-b8dd9da4adb2",
   "metadata": {
    "tags": []
   },
   "outputs": [],
   "source": [
    "def resample_if_necessary(signal, sr, target_sample_rate):\n",
    "    \"\"\"return signal\"\"\"\n",
    "    if sr != target_sample_rate:\n",
    "        print('resampling signal')\n",
    "        resampler = torchaudio.transforms.Resample(sr, target_sample_rate)\n",
    "        signal = resampler(signal)\n",
    "    else:\n",
    "        print('no resampling signal')\n",
    "    return signal"
   ]
  },
  {
   "cell_type": "code",
   "execution_count": 3,
   "id": "643ef738-f10c-4f1d-87c0-f30bed3b4a70",
   "metadata": {
    "tags": []
   },
   "outputs": [],
   "source": [
    "def mix_down_if_necessary(signal):\n",
    "    \"\"\"return signal\"\"\"\n",
    "    if signal.shape[0] > 1:\n",
    "        print('mixing down signal')\n",
    "        signal = torch.mean(signal, dim=0, keepdim=True)\n",
    "    else:\n",
    "        print('no mixing down signal')\n",
    "    return signal"
   ]
  },
  {
   "cell_type": "code",
   "execution_count": 4,
   "id": "6688a1dc-960b-4eb4-8048-d3850c6f3cdc",
   "metadata": {
    "tags": []
   },
   "outputs": [],
   "source": [
    "path_noises = 'data/NOISE/'"
   ]
  },
  {
   "cell_type": "code",
   "execution_count": 5,
   "id": "53b0b28e-bd17-4d44-a9a7-21fe0e3278c2",
   "metadata": {
    "scrolled": true,
    "tags": []
   },
   "outputs": [
    {
     "name": "stdout",
     "output_type": "stream",
     "text": [
      "data/NOISE/nonstationary\n",
      "data/NOISE/nonstationary/babycry.wav\n",
      "16000\n",
      "Audio is normalized.\n",
      "no mixing down signal\n",
      "no resampling signal\n",
      "data/NOISE/nonstationary/crowd_party_adult_med.wav\n",
      "16000\n",
      "Audio is normalized.\n",
      "no mixing down signal\n",
      "no resampling signal\n",
      "data/NOISE/nonstationary/bell_church.wav\n",
      "16000\n",
      "Audio is normalized.\n",
      "no mixing down signal\n",
      "no resampling signal\n",
      "data/NOISE/nonstationary/cafeteria_babble.wav\n",
      "16000\n",
      "Audio is normalized.\n",
      "no mixing down signal\n",
      "no resampling signal\n",
      "data/NOISE/nonstationary/helicopter.wav\n",
      "16000\n",
      "Audio is normalized.\n",
      "no mixing down signal\n",
      "no resampling signal\n",
      "data/NOISE/nonstationary/people.wav\n",
      "16000\n",
      "Audio is normalized.\n",
      "no mixing down signal\n",
      "no resampling signal\n",
      "data/NOISE/nonstationary/dog_bark.wav\n",
      "16000\n",
      "Audio is normalized.\n",
      "no mixing down signal\n",
      "no resampling signal\n",
      "data/NOISE/stationary\n",
      "data/NOISE/stationary/pink.wav\n",
      "16000\n",
      "Audio is normalized.\n",
      "no mixing down signal\n",
      "no resampling signal\n",
      "data/NOISE/stationary/dripping_water.wav\n",
      "16000\n",
      "Audio is normalized.\n",
      "no mixing down signal\n",
      "no resampling signal\n",
      "data/NOISE/stationary/car.wav\n",
      "16000\n",
      "Audio is normalized.\n",
      "no mixing down signal\n",
      "no resampling signal\n",
      "data/NOISE/stationary/cabin.wav\n",
      "16000\n",
      "Audio is normalized.\n",
      "no mixing down signal\n",
      "no resampling signal\n",
      "data/NOISE/stationary/rain.wav\n",
      "16000\n",
      "Audio is normalized.\n",
      "no mixing down signal\n",
      "no resampling signal\n",
      "data/NOISE/stationary/wind.wav\n",
      "16000\n",
      "Audio is normalized.\n",
      "no mixing down signal\n",
      "no resampling signal\n",
      "data/NOISE/stationary/typing.wav\n",
      "16000\n",
      "Audio is normalized.\n",
      "no mixing down signal\n",
      "no resampling signal\n"
     ]
    }
   ],
   "source": [
    "noises_folders = []\n",
    "for folder_noise in os.listdir(path_noises):\n",
    "    noises_files = []\n",
    "    print(os.path.join(path_noises, folder_noise))\n",
    "    for file_noise in os.listdir(os.path.join(path_noises, folder_noise)):\n",
    "        print(os.path.join(path_noises, folder_noise, file_noise))\n",
    "        noises_files.append(os.path.join(path_noises, folder_noise, file_noise))\n",
    "        x, y = torchaudio.load(os.path.join(path_noises, folder_noise, file_noise))\n",
    "        print(y)\n",
    "        max_amplitude = x.abs().max()\n",
    "        if max_amplitude <= 1.0:\n",
    "            print('Audio is normalized.')\n",
    "        else:\n",
    "            print('Audio is not normalized')\n",
    "        x = mix_down_if_necessary(x)\n",
    "        x = resample_if_necessary(x, y, 16000)\n",
    "        audio_norm = np.int16(x[0].numpy() / np.max(np.abs(x[0].numpy())) * 32767)\n",
    "        os.remove(os.path.join(path_noises, folder_noise, file_noise))\n",
    "        wavfile.write(os.path.join(path_noises, folder_noise, file_noise), 16000, audio_norm)\n",
    "    noises_folders.append(noises_files)"
   ]
  },
  {
   "cell_type": "code",
   "execution_count": 6,
   "id": "ff480fa0-afee-4ddb-a9bb-e61b39709dd3",
   "metadata": {
    "tags": []
   },
   "outputs": [
    {
     "data": {
      "text/plain": [
       "[['data/NOISE/nonstationary/babycry.wav',\n",
       "  'data/NOISE/nonstationary/crowd_party_adult_med.wav',\n",
       "  'data/NOISE/nonstationary/bell_church.wav',\n",
       "  'data/NOISE/nonstationary/cafeteria_babble.wav',\n",
       "  'data/NOISE/nonstationary/helicopter.wav',\n",
       "  'data/NOISE/nonstationary/people.wav',\n",
       "  'data/NOISE/nonstationary/dog_bark.wav'],\n",
       " ['data/NOISE/stationary/pink.wav',\n",
       "  'data/NOISE/stationary/dripping_water.wav',\n",
       "  'data/NOISE/stationary/car.wav',\n",
       "  'data/NOISE/stationary/cabin.wav',\n",
       "  'data/NOISE/stationary/rain.wav',\n",
       "  'data/NOISE/stationary/wind.wav',\n",
       "  'data/NOISE/stationary/typing.wav']]"
      ]
     },
     "execution_count": 6,
     "metadata": {},
     "output_type": "execute_result"
    }
   ],
   "source": [
    "noises_folders"
   ]
  },
  {
   "cell_type": "code",
   "execution_count": 7,
   "id": "b6c9585f-e320-4509-b124-eb7d2926459e",
   "metadata": {
    "tags": []
   },
   "outputs": [],
   "source": [
    "noises_source = noises_folders[0]#+noises_folders[1][0:3] #3 stationary & 3 non-stationary\n",
    "noises_target = noises_folders[1]#+noises_folders[1][3:6] #2 stationary & 2 non-stationary"
   ]
  },
  {
   "cell_type": "code",
   "execution_count": 8,
   "id": "a8f31989-1890-4f19-9612-2816a7993b46",
   "metadata": {
    "tags": []
   },
   "outputs": [
    {
     "data": {
      "text/plain": [
       "['data/NOISE/nonstationary/babycry.wav',\n",
       " 'data/NOISE/nonstationary/crowd_party_adult_med.wav',\n",
       " 'data/NOISE/nonstationary/bell_church.wav',\n",
       " 'data/NOISE/nonstationary/cafeteria_babble.wav',\n",
       " 'data/NOISE/nonstationary/helicopter.wav',\n",
       " 'data/NOISE/nonstationary/people.wav',\n",
       " 'data/NOISE/nonstationary/dog_bark.wav']"
      ]
     },
     "execution_count": 8,
     "metadata": {},
     "output_type": "execute_result"
    }
   ],
   "source": [
    "noises_source"
   ]
  },
  {
   "cell_type": "code",
   "execution_count": 9,
   "id": "c9b70882-e6db-4911-89ea-a16091226eaa",
   "metadata": {
    "tags": []
   },
   "outputs": [
    {
     "data": {
      "text/plain": [
       "['data/NOISE/stationary/pink.wav',\n",
       " 'data/NOISE/stationary/dripping_water.wav',\n",
       " 'data/NOISE/stationary/car.wav',\n",
       " 'data/NOISE/stationary/cabin.wav',\n",
       " 'data/NOISE/stationary/rain.wav',\n",
       " 'data/NOISE/stationary/wind.wav',\n",
       " 'data/NOISE/stationary/typing.wav']"
      ]
     },
     "execution_count": 9,
     "metadata": {},
     "output_type": "execute_result"
    }
   ],
   "source": [
    "noises_target"
   ]
  },
  {
   "cell_type": "code",
   "execution_count": 10,
   "id": "66301743-6385-4f36-b40a-48088f9eed46",
   "metadata": {
    "tags": []
   },
   "outputs": [],
   "source": [
    "def generate_pkl(paths_noise, _type):\n",
    "    # Guardar la variable en un archivo\n",
    "    variable = paths_noise\n",
    "    with open('variables/NOISES_'+str(_type)+'.pkl', 'wb') as archivo:\n",
    "        pickle.dump(variable, archivo)\n",
    "    # Cargar la variable desde el archivo\n",
    "    with open('variables/NOISES_'+str(_type)+'.pkl', 'rb') as archivo:\n",
    "        variable_cargada = pickle.load(archivo)\n",
    "    # Mostrar la variable cargada\n",
    "    print(variable_cargada)\n",
    "    print(len(variable_cargada))"
   ]
  },
  {
   "cell_type": "code",
   "execution_count": 11,
   "id": "d07668b7-d12e-4f36-acad-4e43fa7a861d",
   "metadata": {
    "scrolled": true,
    "tags": []
   },
   "outputs": [
    {
     "name": "stdout",
     "output_type": "stream",
     "text": [
      "['data/NOISE/nonstationary/babycry.wav', 'data/NOISE/nonstationary/crowd_party_adult_med.wav', 'data/NOISE/nonstationary/bell_church.wav', 'data/NOISE/nonstationary/cafeteria_babble.wav', 'data/NOISE/nonstationary/helicopter.wav', 'data/NOISE/nonstationary/people.wav', 'data/NOISE/nonstationary/dog_bark.wav']\n",
      "7\n"
     ]
    }
   ],
   "source": [
    "generate_pkl(noises_source, 'STATIONARY_NOISE_S')"
   ]
  },
  {
   "cell_type": "code",
   "execution_count": 12,
   "id": "da70ce4d-ee73-4388-88b2-548eea3362fe",
   "metadata": {
    "tags": []
   },
   "outputs": [
    {
     "name": "stdout",
     "output_type": "stream",
     "text": [
      "['data/NOISE/stationary/pink.wav', 'data/NOISE/stationary/dripping_water.wav', 'data/NOISE/stationary/car.wav', 'data/NOISE/stationary/cabin.wav', 'data/NOISE/stationary/rain.wav', 'data/NOISE/stationary/wind.wav', 'data/NOISE/stationary/typing.wav']\n",
      "7\n"
     ]
    }
   ],
   "source": [
    "generate_pkl(noises_target, 'NO_STATIONARY_NOISE_T')"
   ]
  },
  {
   "cell_type": "code",
   "execution_count": null,
   "id": "1e5c1bb0-5149-46ee-aabd-16585752e980",
   "metadata": {},
   "outputs": [],
   "source": []
  },
  {
   "cell_type": "code",
   "execution_count": null,
   "id": "0655d98d-7b3c-49c4-9989-53e737cb5e05",
   "metadata": {},
   "outputs": [],
   "source": []
  }
 ],
 "metadata": {
  "kernelspec": {
   "display_name": "Python 3 (ipykernel)",
   "language": "python",
   "name": "python3"
  },
  "language_info": {
   "codemirror_mode": {
    "name": "ipython",
    "version": 3
   },
   "file_extension": ".py",
   "mimetype": "text/x-python",
   "name": "python",
   "nbconvert_exporter": "python",
   "pygments_lexer": "ipython3",
   "version": "3.10.6"
  }
 },
 "nbformat": 4,
 "nbformat_minor": 5
}
