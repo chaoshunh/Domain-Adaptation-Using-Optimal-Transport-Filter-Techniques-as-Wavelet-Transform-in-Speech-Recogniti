{
 "cells": [
  {
   "cell_type": "code",
   "execution_count": 1,
   "id": "fefd93f8-72c8-40f3-844c-f3e387d7d647",
   "metadata": {
    "tags": []
   },
   "outputs": [],
   "source": [
    "import os\n",
    "import glob\n",
    "import torch\n",
    "import warnings\n",
    "import numpy as np\n",
    "from pathlib import Path\n",
    "from sklearn.utils import shuffle\n",
    "#from feature_extractor import FeatureExtractor\n",
    "#from utils import prepare_input_features\n",
    "#from sklearn.preprocessing import StandardScaler\n",
    "from torch.utils.data import Dataset\n",
    "warnings.filterwarnings(action='ignore')"
   ]
  },
  {
   "cell_type": "code",
   "execution_count": 2,
   "id": "58c43eb6-752c-4d39-aadd-1d51f0a4c36a",
   "metadata": {
    "tags": []
   },
   "outputs": [],
   "source": [
    "def return_clean_noise_files_pt_sorted(clean_folder, noise_folder):\n",
    "    clean_files = sorted(clean_folder.glob(\"*.pt\"))\n",
    "    noise_files = sorted(noise_folder.glob(\"*.pt\"))\n",
    "    return clean_files, noise_files"
   ]
  },
  {
   "cell_type": "code",
   "execution_count": 3,
   "id": "aeb8a800-7639-477e-9455-46192ff87b2d",
   "metadata": {
    "scrolled": true,
    "tags": []
   },
   "outputs": [],
   "source": [
    "#Training\n",
    "clean_folder_train_s = Path(\"data/PT_FILES_S/CLEAN/TRAINING/\")\n",
    "noise_folder_train_s = Path(\"data/PT_FILES_S/NOISE/TRAINING/\")\n",
    "clean_files_train_s, noise_files_train_s = return_clean_noise_files_pt_sorted(clean_folder_train_s, noise_folder_train_s)"
   ]
  },
  {
   "cell_type": "code",
   "execution_count": 4,
   "id": "de37afb9-08f5-4ab6-91bf-ba2126793d8a",
   "metadata": {
    "scrolled": true,
    "tags": []
   },
   "outputs": [],
   "source": [
    "#Testing\n",
    "clean_folder_test_s = Path(\"data/PT_FILES_S/CLEAN/TESTING/\")\n",
    "noise_folder_test_s = Path(\"data/PT_FILES_S/NOISE/TESTING/\")\n",
    "clean_files_test_s, noise_files_test_s = return_clean_noise_files_pt_sorted(clean_folder_test_s, noise_folder_test_s)"
   ]
  },
  {
   "cell_type": "code",
   "execution_count": 5,
   "id": "4c11e5e7-0a23-44d9-ba79-df484e2be531",
   "metadata": {
    "scrolled": true,
    "tags": []
   },
   "outputs": [],
   "source": [
    "#Validation\n",
    "clean_folder_val_s = Path(\"data/PT_FILES_S/CLEAN/VALIDATION/\")\n",
    "noise_folder_val_s = Path(\"data/PT_FILES_S/NOISE/VALIDATION/\")\n",
    "clean_files_val_s, noise_files_val_s = return_clean_noise_files_pt_sorted(clean_folder_val_s, noise_folder_val_s)"
   ]
  },
  {
   "cell_type": "code",
   "execution_count": 6,
   "id": "15caed49-90b1-4add-8039-5a53e708794d",
   "metadata": {
    "tags": []
   },
   "outputs": [],
   "source": [
    "#Training\n",
    "clean_folder_train_t = Path(\"data/PT_FILES_T/CLEAN/TRAINING/\")\n",
    "noise_folder_train_t = Path(\"data/PT_FILES_T/NOISE/TRAINING/\")\n",
    "clean_files_train_t, noise_files_train_t = return_clean_noise_files_pt_sorted(clean_folder_train_t, noise_folder_train_t)"
   ]
  },
  {
   "cell_type": "code",
   "execution_count": 7,
   "id": "abd113a9-99f0-40c1-853a-498b46ef4aa9",
   "metadata": {
    "tags": []
   },
   "outputs": [],
   "source": [
    "#Testing\n",
    "clean_folder_test_t = Path(\"data/PT_FILES_T/CLEAN/TESTING/\")\n",
    "noise_folder_test_t = Path(\"data/PT_FILES_T/NOISE/TESTING/\")\n",
    "clean_files_test_t, noise_files_test_t = return_clean_noise_files_pt_sorted(clean_folder_test_t, noise_folder_test_t)"
   ]
  },
  {
   "cell_type": "code",
   "execution_count": 8,
   "id": "887f2169-912c-48c5-ad39-a947e8ca3947",
   "metadata": {
    "tags": []
   },
   "outputs": [],
   "source": [
    "#Validation\n",
    "clean_folder_val_t = Path(\"data/PT_FILES_T/CLEAN/VALIDATION/\")\n",
    "noise_folder_val_t = Path(\"data/PT_FILES_T/NOISE/VALIDATION/\")\n",
    "clean_files_val_t, noise_files_val_t = return_clean_noise_files_pt_sorted(clean_folder_val_t, noise_folder_val_t)"
   ]
  },
  {
   "cell_type": "code",
   "execution_count": 9,
   "id": "e7d4cd3d-7c8d-45c1-9a78-60f8d7c47638",
   "metadata": {
    "tags": []
   },
   "outputs": [],
   "source": [
    "def get_clean_noise_data_load_from_pt_file(clean_files, noise_files):\n",
    "    clean_data = []\n",
    "    noise_data = []\n",
    "    for clean_file, noise_file in zip(clean_files, noise_files):\n",
    "        clean_data.append(torch.load(clean_file))\n",
    "        noise_data.append(torch.load(noise_file))\n",
    "    return clean_data, noise_data"
   ]
  },
  {
   "cell_type": "code",
   "execution_count": 10,
   "id": "7bb1a7a6-2e47-4072-8638-1c84e8c3fab4",
   "metadata": {
    "tags": []
   },
   "outputs": [],
   "source": [
    "#Training\n",
    "clean_data_train_s, noise_data_train_s = get_clean_noise_data_load_from_pt_file(clean_files_train_s, noise_files_train_s)"
   ]
  },
  {
   "cell_type": "code",
   "execution_count": 11,
   "id": "3de484a3-e244-4b96-b2a8-c116c5e203e9",
   "metadata": {
    "tags": []
   },
   "outputs": [],
   "source": [
    "#Testing\n",
    "clean_data_test_s, noise_data_test_s = get_clean_noise_data_load_from_pt_file(clean_files_test_s, noise_files_test_s)"
   ]
  },
  {
   "cell_type": "code",
   "execution_count": 12,
   "id": "b7829eab-0f39-479a-8acf-1a2554a53a1b",
   "metadata": {
    "tags": []
   },
   "outputs": [],
   "source": [
    "#Validation\n",
    "clean_data_val_s, noise_data_val_s = get_clean_noise_data_load_from_pt_file(clean_files_val_s, noise_files_val_s)"
   ]
  },
  {
   "cell_type": "code",
   "execution_count": 13,
   "id": "235cb361-afb0-4122-a127-ee46c0f5a194",
   "metadata": {
    "tags": []
   },
   "outputs": [],
   "source": [
    "#Training\n",
    "clean_data_train_t, noise_data_train_t = get_clean_noise_data_load_from_pt_file(clean_files_train_t, noise_files_train_t)"
   ]
  },
  {
   "cell_type": "code",
   "execution_count": 14,
   "id": "66a51b38-1fb5-43a3-9c0b-ca89bddc207c",
   "metadata": {
    "tags": []
   },
   "outputs": [],
   "source": [
    "#Testing\n",
    "clean_data_test_t, noise_data_test_t = get_clean_noise_data_load_from_pt_file(clean_files_test_t, noise_files_test_t)"
   ]
  },
  {
   "cell_type": "code",
   "execution_count": 15,
   "id": "2a5b1c5d-3a68-42f3-b465-cba40a9218f9",
   "metadata": {
    "tags": []
   },
   "outputs": [],
   "source": [
    "#Validation\n",
    "clean_data_val_t, noise_data_val_t = get_clean_noise_data_load_from_pt_file(clean_files_val_t, noise_files_val_t)"
   ]
  },
  {
   "cell_type": "code",
   "execution_count": 16,
   "id": "983dad5f-56d1-4191-bdd8-759527abbfe2",
   "metadata": {
    "tags": []
   },
   "outputs": [],
   "source": [
    "class CustomDataset(Dataset):\n",
    "    def __init__(self, clean_data_s, noise_data_s, clean_data_t, noise_data_t):\n",
    "        self.clean_data_s = clean_data_s\n",
    "        self.noise_data_s = noise_data_s\n",
    "        self.clean_data_t = clean_data_t\n",
    "        self.noise_data_t = noise_data_t\n",
    "\n",
    "    def __len__(self):\n",
    "        return len(self.clean_data_s)\n",
    "\n",
    "    def __getitem__(self, index):\n",
    "        clean_sample_s = self.clean_data_s[index]\n",
    "        noise_sample_s = self.noise_data_s[index]\n",
    "        clean_sample_t = self.clean_data_t[index]\n",
    "        noise_sample_t = self.noise_data_t[index]\n",
    "        return clean_sample_s, noise_sample_s, clean_sample_t, noise_sample_t"
   ]
  },
  {
   "cell_type": "code",
   "execution_count": 17,
   "id": "8eee47c5-4965-429d-8570-024dde3178e0",
   "metadata": {
    "tags": []
   },
   "outputs": [],
   "source": [
    "#Train\n",
    "custom_dataset_train = CustomDataset(clean_data_train_s, noise_data_train_s, clean_data_train_s, noise_data_train_t)\n",
    "#Test\n",
    "custom_dataset_test = CustomDataset(clean_data_test_s, noise_data_test_s, clean_data_test_t, noise_data_test_t)\n",
    "#Val\n",
    "custom_dataset_val = CustomDataset(clean_data_val_s, noise_data_val_s, clean_data_val_t, noise_data_val_t)"
   ]
  },
  {
   "cell_type": "code",
   "execution_count": 18,
   "id": "f93b49c8-11dc-49bf-8a29-b2d4e3cb47d9",
   "metadata": {
    "tags": []
   },
   "outputs": [],
   "source": [
    "PATH_TO_SAVE_DS = 'data/DATASET/'\n",
    "LIST_DS = ['TRAIN', 'TEST', 'VALIDATION']\n",
    "torch.save(custom_dataset_train, PATH_TO_SAVE_DS + LIST_DS[0] + '_ST_FINAL_01.pt')\n",
    "torch.save(custom_dataset_test, PATH_TO_SAVE_DS + LIST_DS[1] + '_ST_FINAL_01.pt')\n",
    "torch.save(custom_dataset_val, PATH_TO_SAVE_DS + LIST_DS[2] + '_ST_FINAL_01.pt')"
   ]
  },
  {
   "cell_type": "code",
   "execution_count": null,
   "id": "a29d4309-2abe-494d-9bd5-264d6f7181c1",
   "metadata": {},
   "outputs": [],
   "source": []
  }
 ],
 "metadata": {
  "kernelspec": {
   "display_name": "Python 3 (ipykernel)",
   "language": "python",
   "name": "python3"
  },
  "language_info": {
   "codemirror_mode": {
    "name": "ipython",
    "version": 3
   },
   "file_extension": ".py",
   "mimetype": "text/x-python",
   "name": "python",
   "nbconvert_exporter": "python",
   "pygments_lexer": "ipython3",
   "version": "3.10.6"
  }
 },
 "nbformat": 4,
 "nbformat_minor": 5
}
